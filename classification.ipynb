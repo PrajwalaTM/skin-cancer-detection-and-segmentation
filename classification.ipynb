{
 "cells": [
  {
   "cell_type": "code",
   "execution_count": 99,
   "metadata": {
    "collapsed": true
   },
   "outputs": [],
   "source": [
    "import numpy as np\n",
    "import scipy.io as scio    \n",
    "import os,re\n",
    "from scipy import ndimage\n",
    "from scipy import misc\n",
    "from matplotlib import pyplot as plt\n",
    "from sklearn.metrics import confusion_matrix\n",
    "import itertools"
   ]
  },
  {
   "cell_type": "code",
   "execution_count": 2,
   "metadata": {
    "collapsed": false
   },
   "outputs": [
    {
     "name": "stderr",
     "output_type": "stream",
     "text": [
      "Using TensorFlow backend.\n"
     ]
    }
   ],
   "source": [
    "import keras"
   ]
  },
  {
   "cell_type": "code",
   "execution_count": 3,
   "metadata": {
    "collapsed": true
   },
   "outputs": [],
   "source": [
    "from keras.models import *\n",
    "from keras.layers import Input,Flatten, Dense,merge, Conv2D, MaxPooling2D, UpSampling2D, Dropout, Cropping2D,Concatenate,Activation\n",
    "from keras.optimizers import *\n",
    "from keras.callbacks import ModelCheckpoint, LearningRateScheduler,ReduceLROnPlateau,CSVLogger\n",
    "from keras import backend as keras"
   ]
  },
  {
   "cell_type": "code",
   "execution_count": 4,
   "metadata": {
    "collapsed": true
   },
   "outputs": [],
   "source": [
    "def atoi(text) : \n",
    "    return int(text) if text.isdigit() else text"
   ]
  },
  {
   "cell_type": "code",
   "execution_count": 5,
   "metadata": {
    "collapsed": true
   },
   "outputs": [],
   "source": [
    "def natural_keys(text) :\n",
    "    return [atoi(c) for c in re.split('(\\d+)', text)]"
   ]
  },
  {
   "cell_type": "code",
   "execution_count": 6,
   "metadata": {
    "collapsed": true
   },
   "outputs": [],
   "source": [
    "total_images = np.load('total_images.npy')\n",
    "ground_truth_images = np.load('gt_labels_binary.npy')"
   ]
  },
  {
   "cell_type": "code",
   "execution_count": 7,
   "metadata": {
    "collapsed": true
   },
   "outputs": [],
   "source": [
    "root_path = \"/home/iplab/AI_assignment/cancer-prediction/\""
   ]
  },
  {
   "cell_type": "code",
   "execution_count": 8,
   "metadata": {
    "collapsed": true
   },
   "outputs": [],
   "source": [
    "def get_filenames(path):\n",
    "    filenames = []\n",
    "    for root, dirnames, filenames in os.walk(path):\n",
    "        filenames.sort(key = natural_keys)\n",
    "        rootpath = root\n",
    "    print(len(filenames))\n",
    "    return filenames"
   ]
  },
  {
   "cell_type": "code",
   "execution_count": 9,
   "metadata": {
    "collapsed": false
   },
   "outputs": [
    {
     "name": "stdout",
     "output_type": "stream",
     "text": [
      "374\n",
      "1626\n"
     ]
    }
   ],
   "source": [
    "filenames_melanoma = get_filenames(root_path+\"melanoma_resized/\")\n",
    "filenames_others = get_filenames(root_path+\"others_resized/\")"
   ]
  },
  {
   "cell_type": "code",
   "execution_count": 10,
   "metadata": {
    "collapsed": true
   },
   "outputs": [],
   "source": [
    "filenames_total = filenames_melanoma+filenames_others\n",
    "filenames_total.sort(key = natural_keys)"
   ]
  },
  {
   "cell_type": "code",
   "execution_count": null,
   "metadata": {
    "collapsed": false
   },
   "outputs": [],
   "source": [
    "segmented_images = np.copy(total_images)\n",
    "x,y,z = segmented_images[0].shape\n",
    "for i in range(len(total_images)):\n",
    "    for j in range(x):\n",
    "        for k in range(y):\n",
    "            for l in range(z):\n",
    "                segmented_images[i][j][k][l] = total_images[i][j][k][l] if ground_truth_images[i][j][k]==1 else 0\n",
    "    misc.imsave(root_path+\"segmented_images/segmented_\"+filenames_total[i],segmented_images[i])"
   ]
  },
  {
   "cell_type": "code",
   "execution_count": null,
   "metadata": {
    "collapsed": false
   },
   "outputs": [],
   "source": [
    "segmented_images[0].shape"
   ]
  },
  {
   "cell_type": "code",
   "execution_count": null,
   "metadata": {
    "collapsed": false
   },
   "outputs": [],
   "source": [
    "total_images.shape"
   ]
  },
  {
   "cell_type": "code",
   "execution_count": null,
   "metadata": {
    "collapsed": false
   },
   "outputs": [],
   "source": [
    "ground_truth_images.shape"
   ]
  },
  {
   "cell_type": "code",
   "execution_count": null,
   "metadata": {
    "collapsed": true
   },
   "outputs": [],
   "source": [
    "np.save('segmented_images.npy',segmented_images)"
   ]
  },
  {
   "cell_type": "code",
   "execution_count": 11,
   "metadata": {
    "collapsed": true
   },
   "outputs": [],
   "source": [
    "segmented_images = np.load('segmented_images.npy')"
   ]
  },
  {
   "cell_type": "code",
   "execution_count": 12,
   "metadata": {
    "collapsed": true
   },
   "outputs": [],
   "source": [
    "classification_labels = np.zeros((len(total_images)))\n",
    "i = 0\n",
    "for file in filenames_total:\n",
    "    if os.path.exists(root_path+\"melanoma_resized/\"+file):\n",
    "        classification_labels[i]=0\n",
    "    else:\n",
    "        classification_labels[i]=1\n",
    "    i+=1"
   ]
  },
  {
   "cell_type": "code",
   "execution_count": 13,
   "metadata": {
    "collapsed": false
   },
   "outputs": [
    {
     "name": "stdout",
     "output_type": "stream",
     "text": [
      "[ 1.  1.  0. ...,  1.  0.  1.]\n"
     ]
    }
   ],
   "source": [
    "print(classification_labels)"
   ]
  },
  {
   "cell_type": "code",
   "execution_count": 14,
   "metadata": {
    "collapsed": true
   },
   "outputs": [],
   "source": [
    "np.save('classification_labels.npy',classification_labels)"
   ]
  },
  {
   "cell_type": "code",
   "execution_count": 15,
   "metadata": {
    "collapsed": false
   },
   "outputs": [
    {
     "name": "stdout",
     "output_type": "stream",
     "text": [
      "1900\n"
     ]
    }
   ],
   "source": [
    "train_indices = np.random.choice(2000,1900,replace=False)\n",
    "print(len(train_indices))"
   ]
  },
  {
   "cell_type": "code",
   "execution_count": 16,
   "metadata": {
    "collapsed": true
   },
   "outputs": [],
   "source": [
    "train_images = [segmented_images[i] for i in train_indices]\n",
    "train_labels = [classification_labels[i] for i in train_indices]"
   ]
  },
  {
   "cell_type": "code",
   "execution_count": 17,
   "metadata": {
    "collapsed": false
   },
   "outputs": [
    {
     "name": "stdout",
     "output_type": "stream",
     "text": [
      "1900\n",
      "1900\n"
     ]
    }
   ],
   "source": [
    "print(len(train_images))\n",
    "print(len(train_labels))"
   ]
  },
  {
   "cell_type": "code",
   "execution_count": 18,
   "metadata": {
    "collapsed": false
   },
   "outputs": [
    {
     "name": "stdout",
     "output_type": "stream",
     "text": [
      "100\n"
     ]
    }
   ],
   "source": [
    "test_indices = [i for i in range(2000) if i not in train_indices]\n",
    "print(len(test_indices))"
   ]
  },
  {
   "cell_type": "code",
   "execution_count": 19,
   "metadata": {
    "collapsed": true
   },
   "outputs": [],
   "source": [
    "test_images = [segmented_images[i] for i in test_indices]\n",
    "test_labels = [classification_labels[i] for i in test_indices]"
   ]
  },
  {
   "cell_type": "code",
   "execution_count": 20,
   "metadata": {
    "collapsed": false
   },
   "outputs": [
    {
     "name": "stdout",
     "output_type": "stream",
     "text": [
      "100\n",
      "100\n"
     ]
    }
   ],
   "source": [
    "print(len(test_images))\n",
    "print(len(test_labels))"
   ]
  },
  {
   "cell_type": "code",
   "execution_count": 21,
   "metadata": {
    "collapsed": false
   },
   "outputs": [],
   "source": [
    "plt.imshow(segmented_images[0])\n",
    "plt.show()"
   ]
  },
  {
   "cell_type": "code",
   "execution_count": 22,
   "metadata": {
    "collapsed": false
   },
   "outputs": [
    {
     "name": "stdout",
     "output_type": "stream",
     "text": [
      "1.0\n"
     ]
    }
   ],
   "source": [
    "print(classification_labels[0])"
   ]
  },
  {
   "cell_type": "code",
   "execution_count": 23,
   "metadata": {
    "collapsed": false
   },
   "outputs": [
    {
     "name": "stdout",
     "output_type": "stream",
     "text": [
      "(128, 192, 3)\n"
     ]
    }
   ],
   "source": [
    "image_dims = segmented_images[0].shape\n",
    "print(image_dims)"
   ]
  },
  {
   "cell_type": "code",
   "execution_count": 24,
   "metadata": {
    "collapsed": true
   },
   "outputs": [],
   "source": [
    "train_mean = np.mean(train_images,axis = (0,1,2,3))\n",
    "train_std = np.std(train_images,axis = (0,1,2,3))\n",
    "train_images = (train_images - train_mean)/(train_std+1e-7)"
   ]
  },
  {
   "cell_type": "code",
   "execution_count": 25,
   "metadata": {
    "collapsed": true
   },
   "outputs": [],
   "source": [
    "test_mean = np.mean(test_images,axis=(0,1,2,3))\n",
    "test_std = np.std(test_images,axis = (0,1,2,3))\n",
    "test_images = (test_images-test_mean)/(test_std+1e-7)"
   ]
  },
  {
   "cell_type": "code",
   "execution_count": null,
   "metadata": {
    "collapsed": true
   },
   "outputs": [],
   "source": [
    "np.save('classification_train_images.npy',train_images)\n",
    "np.save('classification_test_images.npy',test_images)\n",
    "np.save('classification_train_labels.npy',train_labels)\n",
    "np.save('classification_test_labels.npy',test_labels)"
   ]
  },
  {
   "cell_type": "code",
   "execution_count": 26,
   "metadata": {
    "collapsed": true
   },
   "outputs": [],
   "source": [
    "train_images = np.load('classification_train_images.npy')\n",
    "test_images = np.load('classification_test_images.npy')\n",
    "train_labels = np.load('classification_train_labels.npy')\n",
    "test_labels =  np.load('classification_test_labels.npy')"
   ]
  },
  {
   "cell_type": "code",
   "execution_count": 47,
   "metadata": {
    "collapsed": true
   },
   "outputs": [],
   "source": [
    "def get_unet_model(image_dims):\n",
    "    inputs = Input((image_dims[0],image_dims[1],image_dims[2]))\n",
    "    conv1 = Conv2D(16, 3, activation = 'relu', padding = 'same', kernel_initializer = 'he_normal')(inputs)\n",
    "    conv1 = Conv2D(16, 3, activation = 'relu', padding = 'same', kernel_initializer = 'he_normal')(conv1)\n",
    "    pool1 = MaxPooling2D(pool_size=(2, 2))(conv1)\n",
    "\n",
    "    conv2 = Conv2D(32, 3, activation = 'relu', padding = 'same', kernel_initializer = 'he_normal')(pool1)\n",
    "    conv2 = Conv2D(32, 3, activation = 'relu', padding = 'same', kernel_initializer = 'he_normal')(conv2)\n",
    "    pool2 = MaxPooling2D(pool_size=(2, 2))(conv2)\n",
    "\n",
    "    conv3 = Conv2D(64, 3, activation = 'relu', padding = 'same', kernel_initializer = 'he_normal')(pool2)\n",
    "    conv3 = Conv2D(64, 3, activation = 'relu', padding = 'same', kernel_initializer = 'he_normal')(conv3)\n",
    "    pool3 = MaxPooling2D(pool_size=(2, 2))(conv3)\n",
    "\n",
    "    conv4 = Conv2D(128, 3, activation = 'relu', padding = 'same', kernel_initializer = 'he_normal')(pool3)\n",
    "    conv4 = Conv2D(128, 3, activation = 'relu', padding = 'same', kernel_initializer = 'he_normal')(conv4)\n",
    "    pool4 = MaxPooling2D(pool_size=(2, 2))(conv4)\n",
    "\n",
    "    conv5 = Conv2D(256, 3, activation = 'relu', padding = 'same', kernel_initializer = 'he_normal')(pool4)\n",
    "    conv5 = Conv2D(256, 3, activation = 'relu', padding = 'same', kernel_initializer = 'he_normal')(conv5)\n",
    "   \n",
    "\n",
    "    up6 = Conv2D(128, 3, activation = 'relu', padding = 'same', kernel_initializer = 'he_normal')(UpSampling2D(size = (2,2))(conv5))\n",
    "    merge6 = Concatenate(axis=3)([conv4,up6])\n",
    "    conv6 = Conv2D(128, 3, activation = 'relu', padding = 'same', kernel_initializer = 'he_normal')(merge6)\n",
    "    conv6 = Conv2D(128, 3, activation = 'relu', padding = 'same', kernel_initializer = 'he_normal')(conv6)\n",
    "\n",
    "    up7 = Conv2D(64, 3, activation = 'relu', padding = 'same', kernel_initializer = 'he_normal')(UpSampling2D(size = (2,2))(conv6))\n",
    "    merge7 = Concatenate(axis=3)([conv3,up7])\n",
    "    conv7 = Conv2D(64, 3, activation = 'relu', padding = 'same', kernel_initializer = 'he_normal')(merge7)\n",
    "    conv7 = Conv2D(64, 3, activation = 'relu', padding = 'same', kernel_initializer = 'he_normal')(conv7)\n",
    "\n",
    "    up8 = Conv2D(32, 3, activation = 'relu', padding = 'same', kernel_initializer = 'he_normal')(UpSampling2D(size = (2,2))(conv7))\n",
    "    merge8 = Concatenate(axis=3)([conv2,up8])\n",
    "    conv8 = Conv2D(32, 3, activation = 'relu', padding = 'same', kernel_initializer = 'he_normal')(merge8)\n",
    "    conv8 = Conv2D(32, 3, activation = 'relu', padding = 'same', kernel_initializer = 'he_normal')(conv8)\n",
    "\n",
    "    up9 = Conv2D(16, 3, activation = 'relu', padding = 'same', kernel_initializer = 'he_normal')(UpSampling2D(size = (2,2))(conv8))\n",
    "    merge9 = Concatenate(axis=3)([conv1,up9])\n",
    "    conv9 = Conv2D(16, 3, activation = 'relu', padding = 'same', kernel_initializer = 'he_normal')(merge9)\n",
    "    conv9 = Conv2D(16, 3, activation = 'relu', padding = 'same', kernel_initializer = 'he_normal')(conv9)\n",
    "  #  conv9 = Conv2D(2, 3, activation = 'relu', padding = 'same', kernel_initializer = 'he_normal')(conv9)\n",
    "    #conv10 = Conv2D(1, 1, activation = 'sigmoid')(conv9)\n",
    "    flatten1 = Flatten()(conv9)\n",
    "    dense2 = Dense(1,activation='sigmoid')(flatten1)\n",
    "    \n",
    "    model = Model(inputs = inputs, outputs = dense2)\n",
    "    return model"
   ]
  },
  {
   "cell_type": "code",
   "execution_count": 48,
   "metadata": {
    "collapsed": false
   },
   "outputs": [],
   "source": [
    "model = get_unet_model((128,192,3))"
   ]
  },
  {
   "cell_type": "code",
   "execution_count": 49,
   "metadata": {
    "collapsed": false
   },
   "outputs": [
    {
     "name": "stdout",
     "output_type": "stream",
     "text": [
      "_________________________________________________________________\n",
      "Layer (type)                 Output Shape              Param #   \n",
      "=================================================================\n",
      "input_3 (InputLayer)         (None, 128, 192, 3)       0         \n",
      "_________________________________________________________________\n",
      "conv2d_45 (Conv2D)           (None, 128, 192, 16)      448       \n",
      "_________________________________________________________________\n",
      "conv2d_46 (Conv2D)           (None, 128, 192, 16)      2320      \n",
      "_________________________________________________________________\n",
      "max_pooling2d_9 (MaxPooling2 (None, 64, 96, 16)        0         \n",
      "_________________________________________________________________\n",
      "conv2d_47 (Conv2D)           (None, 64, 96, 32)        4640      \n",
      "_________________________________________________________________\n",
      "conv2d_48 (Conv2D)           (None, 64, 96, 32)        9248      \n",
      "_________________________________________________________________\n",
      "max_pooling2d_10 (MaxPooling (None, 32, 48, 32)        0         \n",
      "_________________________________________________________________\n",
      "conv2d_49 (Conv2D)           (None, 32, 48, 64)        18496     \n",
      "_________________________________________________________________\n",
      "conv2d_50 (Conv2D)           (None, 32, 48, 64)        36928     \n",
      "_________________________________________________________________\n",
      "max_pooling2d_11 (MaxPooling (None, 16, 24, 64)        0         \n",
      "_________________________________________________________________\n",
      "conv2d_51 (Conv2D)           (None, 16, 24, 128)       73856     \n",
      "_________________________________________________________________\n",
      "conv2d_52 (Conv2D)           (None, 16, 24, 128)       147584    \n",
      "_________________________________________________________________\n",
      "max_pooling2d_12 (MaxPooling (None, 8, 12, 128)        0         \n",
      "_________________________________________________________________\n",
      "conv2d_53 (Conv2D)           (None, 8, 12, 256)        295168    \n",
      "_________________________________________________________________\n",
      "conv2d_54 (Conv2D)           (None, 8, 12, 256)        590080    \n",
      "_________________________________________________________________\n",
      "up_sampling2d_9 (UpSampling2 (None, 16, 24, 256)       0         \n",
      "_________________________________________________________________\n",
      "conv2d_55 (Conv2D)           (None, 16, 24, 128)       295040    \n",
      "_________________________________________________________________\n",
      "concatenate_9 (Concatenate)  (None, 16, 24, 256)       0         \n",
      "_________________________________________________________________\n",
      "conv2d_56 (Conv2D)           (None, 16, 24, 128)       295040    \n",
      "_________________________________________________________________\n",
      "conv2d_57 (Conv2D)           (None, 16, 24, 128)       147584    \n",
      "_________________________________________________________________\n",
      "up_sampling2d_10 (UpSampling (None, 32, 48, 128)       0         \n",
      "_________________________________________________________________\n",
      "conv2d_58 (Conv2D)           (None, 32, 48, 64)        73792     \n",
      "_________________________________________________________________\n",
      "concatenate_10 (Concatenate) (None, 32, 48, 128)       0         \n",
      "_________________________________________________________________\n",
      "conv2d_59 (Conv2D)           (None, 32, 48, 64)        73792     \n",
      "_________________________________________________________________\n",
      "conv2d_60 (Conv2D)           (None, 32, 48, 64)        36928     \n",
      "_________________________________________________________________\n",
      "up_sampling2d_11 (UpSampling (None, 64, 96, 64)        0         \n",
      "_________________________________________________________________\n",
      "conv2d_61 (Conv2D)           (None, 64, 96, 32)        18464     \n",
      "_________________________________________________________________\n",
      "concatenate_11 (Concatenate) (None, 64, 96, 64)        0         \n",
      "_________________________________________________________________\n",
      "conv2d_62 (Conv2D)           (None, 64, 96, 32)        18464     \n",
      "_________________________________________________________________\n",
      "conv2d_63 (Conv2D)           (None, 64, 96, 32)        9248      \n",
      "_________________________________________________________________\n",
      "up_sampling2d_12 (UpSampling (None, 128, 192, 32)      0         \n",
      "_________________________________________________________________\n",
      "conv2d_64 (Conv2D)           (None, 128, 192, 16)      4624      \n",
      "_________________________________________________________________\n",
      "concatenate_12 (Concatenate) (None, 128, 192, 32)      0         \n",
      "_________________________________________________________________\n",
      "conv2d_65 (Conv2D)           (None, 128, 192, 16)      4624      \n",
      "_________________________________________________________________\n",
      "conv2d_66 (Conv2D)           (None, 128, 192, 16)      2320      \n",
      "_________________________________________________________________\n",
      "flatten_3 (Flatten)          (None, 393216)            0         \n",
      "_________________________________________________________________\n",
      "dense_3 (Dense)              (None, 1)                 393217    \n",
      "=================================================================\n",
      "Total params: 2,551,905.0\n",
      "Trainable params: 2,551,905.0\n",
      "Non-trainable params: 0.0\n",
      "_________________________________________________________________\n"
     ]
    }
   ],
   "source": [
    "model.summary()"
   ]
  },
  {
   "cell_type": "code",
   "execution_count": 52,
   "metadata": {
    "collapsed": false
   },
   "outputs": [],
   "source": [
    "model.compile(optimizer = Adam(lr = 1e-25), loss = 'binary_crossentropy', metrics = ['accuracy'])"
   ]
  },
  {
   "cell_type": "code",
   "execution_count": 53,
   "metadata": {
    "collapsed": true
   },
   "outputs": [],
   "source": [
    "lr_reducer = ReduceLROnPlateau(factor=0.5, cooldown=0, patience=6, min_lr=0.5e-6)\n",
    "csv_logger = CSVLogger('Unet_lr_e4_bs_10_classifier.csv')\n",
    "model_checkpoint = ModelCheckpoint(\"Unet_lr_e4_bs_10_classifier.hdf5\",monitor = 'val_loss',verbose = 1,save_best_only=True)"
   ]
  },
  {
   "cell_type": "code",
   "execution_count": 54,
   "metadata": {
    "collapsed": false
   },
   "outputs": [
    {
     "name": "stdout",
     "output_type": "stream",
     "text": [
      "Train on 1900 samples, validate on 100 samples\n",
      "Epoch 1/20\n",
      "1890/1900 [============================>.] - ETA: 0s - loss: 0.5895 - acc: 0.8095Epoch 00000: val_loss improved from inf to 0.56296, saving model to Unet_lr_e4_bs_10_classifier.hdf5\n",
      "1900/1900 [==============================] - 192s - loss: 0.5898 - acc: 0.8089 - val_loss: 0.5630 - val_acc: 0.8200\n",
      "Epoch 2/20\n",
      "1890/1900 [============================>.] - ETA: 0s - loss: 0.5900 - acc: 0.8090Epoch 00001: val_loss did not improve\n",
      "1900/1900 [==============================] - 189s - loss: 0.5898 - acc: 0.8089 - val_loss: 0.5630 - val_acc: 0.8200\n",
      "Epoch 3/20\n",
      "1890/1900 [============================>.] - ETA: 0s - loss: 0.5907 - acc: 0.8079Epoch 00002: val_loss did not improve\n",
      "1900/1900 [==============================] - 189s - loss: 0.5898 - acc: 0.8089 - val_loss: 0.5630 - val_acc: 0.8200\n",
      "Epoch 4/20\n",
      "1890/1900 [============================>.] - ETA: 0s - loss: 0.5900 - acc: 0.8095Epoch 00003: val_loss did not improve\n",
      "1900/1900 [==============================] - 188s - loss: 0.5898 - acc: 0.8089 - val_loss: 0.5630 - val_acc: 0.8200\n",
      "Epoch 5/20\n",
      "1890/1900 [============================>.] - ETA: 0s - loss: 0.5873 - acc: 0.8106Epoch 00004: val_loss did not improve\n",
      "1900/1900 [==============================] - 189s - loss: 0.5898 - acc: 0.8089 - val_loss: 0.5630 - val_acc: 0.8200\n",
      "Epoch 6/20\n",
      "1890/1900 [============================>.] - ETA: 0s - loss: 0.5906 - acc: 0.8085Epoch 00005: val_loss did not improve\n",
      "1900/1900 [==============================] - 191s - loss: 0.5898 - acc: 0.8089 - val_loss: 0.5630 - val_acc: 0.8200\n",
      "Epoch 7/20\n",
      "1890/1900 [============================>.] - ETA: 1s - loss: 0.5889 - acc: 0.8095Epoch 00006: val_loss did not improve\n",
      "1900/1900 [==============================] - 194s - loss: 0.5898 - acc: 0.8089 - val_loss: 0.5630 - val_acc: 0.8200\n",
      "Epoch 8/20\n",
      "1890/1900 [============================>.] - ETA: 1s - loss: 0.5903 - acc: 0.8085Epoch 00007: val_loss did not improve\n",
      "1900/1900 [==============================] - 194s - loss: 0.5898 - acc: 0.8089 - val_loss: 0.5630 - val_acc: 0.8200\n",
      "Epoch 9/20\n",
      "1890/1900 [============================>.] - ETA: 0s - loss: 0.5899 - acc: 0.8090Epoch 00008: val_loss did not improve\n",
      "1900/1900 [==============================] - 191s - loss: 0.5898 - acc: 0.8089 - val_loss: 0.5630 - val_acc: 0.8200\n",
      "Epoch 10/20\n",
      "1890/1900 [============================>.] - ETA: 0s - loss: 0.5896 - acc: 0.8101Epoch 00009: val_loss did not improve\n",
      "1900/1900 [==============================] - 189s - loss: 0.5898 - acc: 0.8089 - val_loss: 0.5630 - val_acc: 0.8200\n",
      "Epoch 11/20\n",
      "1890/1900 [============================>.] - ETA: 0s - loss: 0.5901 - acc: 0.8090Epoch 00010: val_loss did not improve\n",
      "1900/1900 [==============================] - 187s - loss: 0.5898 - acc: 0.8089 - val_loss: 0.5630 - val_acc: 0.8200\n",
      "Epoch 12/20\n",
      "1890/1900 [============================>.] - ETA: 0s - loss: 0.5889 - acc: 0.8101Epoch 00011: val_loss did not improve\n",
      "1900/1900 [==============================] - 187s - loss: 0.5898 - acc: 0.8089 - val_loss: 0.5630 - val_acc: 0.8200\n",
      "Epoch 13/20\n",
      "1890/1900 [============================>.] - ETA: 0s - loss: 0.5899 - acc: 0.8095Epoch 00012: val_loss did not improve\n",
      "1900/1900 [==============================] - 188s - loss: 0.5898 - acc: 0.8089 - val_loss: 0.5630 - val_acc: 0.8200\n",
      "Epoch 14/20\n",
      "1890/1900 [============================>.] - ETA: 0s - loss: 0.5894 - acc: 0.8095Epoch 00013: val_loss did not improve\n",
      "1900/1900 [==============================] - 187s - loss: 0.5898 - acc: 0.8089 - val_loss: 0.5630 - val_acc: 0.8200\n",
      "Epoch 15/20\n",
      "1890/1900 [============================>.] - ETA: 0s - loss: 0.5891 - acc: 0.8095Epoch 00014: val_loss did not improve\n",
      "1900/1900 [==============================] - 187s - loss: 0.5898 - acc: 0.8089 - val_loss: 0.5630 - val_acc: 0.8200\n",
      "Epoch 16/20\n",
      "1890/1900 [============================>.] - ETA: 0s - loss: 0.5894 - acc: 0.8090Epoch 00015: val_loss did not improve\n",
      "1900/1900 [==============================] - 187s - loss: 0.5898 - acc: 0.8089 - val_loss: 0.5630 - val_acc: 0.8200\n",
      "Epoch 17/20\n",
      "1890/1900 [============================>.] - ETA: 0s - loss: 0.5901 - acc: 0.8090Epoch 00016: val_loss did not improve\n",
      "1900/1900 [==============================] - 187s - loss: 0.5898 - acc: 0.8089 - val_loss: 0.5630 - val_acc: 0.8200\n",
      "Epoch 18/20\n",
      "1890/1900 [============================>.] - ETA: 0s - loss: 0.5909 - acc: 0.8085Epoch 00017: val_loss did not improve\n",
      "1900/1900 [==============================] - 187s - loss: 0.5898 - acc: 0.8089 - val_loss: 0.5630 - val_acc: 0.8200\n",
      "Epoch 19/20\n",
      "1890/1900 [============================>.] - ETA: 0s - loss: 0.5893 - acc: 0.8095Epoch 00018: val_loss did not improve\n",
      "1900/1900 [==============================] - 187s - loss: 0.5898 - acc: 0.8089 - val_loss: 0.5630 - val_acc: 0.8200\n",
      "Epoch 20/20\n",
      "1890/1900 [============================>.] - ETA: 0s - loss: 0.5894 - acc: 0.8095Epoch 00019: val_loss did not improve\n",
      "1900/1900 [==============================] - 187s - loss: 0.5898 - acc: 0.8089 - val_loss: 0.5630 - val_acc: 0.8200\n"
     ]
    },
    {
     "data": {
      "text/plain": [
       "<keras.callbacks.History at 0x7f7f68122d10>"
      ]
     },
     "execution_count": 54,
     "metadata": {},
     "output_type": "execute_result"
    }
   ],
   "source": [
    "model.fit(train_images, train_labels, batch_size=10, epochs=20, verbose=1,validation_data=(test_images,test_labels), shuffle=True, callbacks=[lr_reducer,csv_logger,model_checkpoint])"
   ]
  },
  {
   "cell_type": "code",
   "execution_count": 59,
   "metadata": {
    "collapsed": false
   },
   "outputs": [],
   "source": [
    "plt.imshow(test_images[5])\n",
    "plt.show()"
   ]
  },
  {
   "cell_type": "code",
   "execution_count": 60,
   "metadata": {
    "collapsed": true
   },
   "outputs": [],
   "source": [
    "test_images = np.expand_dims(test_images,axis=1)"
   ]
  },
  {
   "cell_type": "code",
   "execution_count": 62,
   "metadata": {
    "collapsed": false
   },
   "outputs": [],
   "source": [
    "sample_predictions = model.predict(test_images[5].reshape((1,128,192,3)))"
   ]
  },
  {
   "cell_type": "code",
   "execution_count": 74,
   "metadata": {
    "collapsed": false
   },
   "outputs": [],
   "source": [
    "predicted_class = sample_predictions[0]>0.5"
   ]
  },
  {
   "cell_type": "code",
   "execution_count": 75,
   "metadata": {
    "collapsed": false
   },
   "outputs": [],
   "source": [
    "predicted_class = 0 if predicted_class[0]==True else 1"
   ]
  },
  {
   "cell_type": "code",
   "execution_count": 81,
   "metadata": {
    "collapsed": false
   },
   "outputs": [
    {
     "name": "stdout",
     "output_type": "stream",
     "text": [
      "<type 'int'>\n"
     ]
    }
   ],
   "source": [
    "predicted_class\n",
    "print(type(predicted_class))"
   ]
  },
  {
   "cell_type": "code",
   "execution_count": 82,
   "metadata": {
    "collapsed": true
   },
   "outputs": [],
   "source": [
    "class_labels = {0:'melanoma',1:'others'}"
   ]
  },
  {
   "cell_type": "code",
   "execution_count": 83,
   "metadata": {
    "collapsed": false
   },
   "outputs": [
    {
     "name": "stdout",
     "output_type": "stream",
     "text": [
      "melanoma\n"
     ]
    }
   ],
   "source": [
    "print(class_labels[predicted_class])"
   ]
  },
  {
   "cell_type": "code",
   "execution_count": 85,
   "metadata": {
    "collapsed": false
   },
   "outputs": [],
   "source": [
    "test_images = np.squeeze(test_images,axis=1)"
   ]
  },
  {
   "cell_type": "code",
   "execution_count": 86,
   "metadata": {
    "collapsed": false
   },
   "outputs": [],
   "source": [
    "test_predictions = model.predict(test_images)"
   ]
  },
  {
   "cell_type": "code",
   "execution_count": 91,
   "metadata": {
    "collapsed": true
   },
   "outputs": [],
   "source": [
    "def plot_confusion_matrix(cm, classes,\n",
    "                          normalize=False,\n",
    "                          title='Confusion matrix',\n",
    "                          cmap=plt.cm.Blues):\n",
    "    \"\"\"\n",
    "    This function prints and plots the confusion matrix.\n",
    "    Normalization can be applied by setting `normalize=True`.\n",
    "    \"\"\"\n",
    "    if normalize:\n",
    "        cm = cm.astype('float') / cm.sum(axis=1)[:, np.newaxis]\n",
    "        print(\"Normalized confusion matrix\")\n",
    "    else:\n",
    "        print('Confusion matrix, without normalization')\n",
    "\n",
    "    print(cm)\n",
    "\n",
    "    plt.imshow(cm, interpolation='nearest', cmap=cmap)\n",
    "    plt.title(title)\n",
    "    plt.colorbar()\n",
    "    tick_marks = np.arange(len(classes))\n",
    "    plt.xticks(tick_marks, classes, rotation=45)\n",
    "    plt.yticks(tick_marks, classes)\n",
    "\n",
    "    fmt = '.2f' if normalize else 'd'\n",
    "    thresh = cm.max() / 2.\n",
    "    for i, j in itertools.product(range(cm.shape[0]), range(cm.shape[1])):\n",
    "        plt.text(j, i, format(cm[i, j], fmt),\n",
    "                 horizontalalignment=\"center\",\n",
    "                 color=\"white\" if cm[i, j] > thresh else \"black\")\n",
    "\n",
    "    plt.tight_layout()\n",
    "    plt.ylabel('True label')\n",
    "    plt.xlabel('Predicted label')\n"
   ]
  },
  {
   "cell_type": "code",
   "execution_count": 92,
   "metadata": {
    "collapsed": true
   },
   "outputs": [],
   "source": [
    "class_names = ['melanoma','others']"
   ]
  },
  {
   "cell_type": "code",
   "execution_count": 94,
   "metadata": {
    "collapsed": false
   },
   "outputs": [
    {
     "data": {
      "text/plain": [
       "array([ 1.,  0.,  0.,  1.,  0.,  1.,  1.,  1.,  1.,  0.,  0.,  0.,  1.,\n",
       "        1.,  1.,  1.,  1.,  1.,  0.,  1.,  0.,  0.,  1.,  1.,  1.,  1.,\n",
       "        1.,  1.,  1.,  1.,  1.,  1.,  1.,  1.,  1.,  1.,  1.,  1.,  1.,\n",
       "        1.,  1.,  1.,  0.,  1.,  1.,  1.,  1.,  1.,  1.,  1.,  1.,  1.,\n",
       "        1.,  1.,  1.,  1.,  1.,  1.,  1.,  1.,  1.,  0.,  1.,  1.,  1.,\n",
       "        1.,  0.,  1.,  1.,  1.,  1.,  1.,  1.,  1.,  1.,  1.,  1.,  1.,\n",
       "        1.,  1.,  0.,  1.,  1.,  1.,  0.,  1.,  1.,  0.,  1.,  1.,  0.,\n",
       "        1.,  1.,  1.,  1.,  1.,  0.,  0.,  1.,  1.])"
      ]
     },
     "execution_count": 94,
     "metadata": {},
     "output_type": "execute_result"
    }
   ],
   "source": [
    "test_labels"
   ]
  },
  {
   "cell_type": "code",
   "execution_count": 138,
   "metadata": {
    "collapsed": false
   },
   "outputs": [],
   "source": [
    "predicted_labels = np.zeros(test_predictions.shape[0])\n",
    "for i in range(test_predictions.shape[0]):\n",
    "    predicted_labels[i] = test_predictions[i]>0.72"
   ]
  },
  {
   "cell_type": "code",
   "execution_count": 139,
   "metadata": {
    "collapsed": false
   },
   "outputs": [
    {
     "data": {
      "text/plain": [
       "(100,)"
      ]
     },
     "execution_count": 139,
     "metadata": {},
     "output_type": "execute_result"
    }
   ],
   "source": [
    "predicted_labels.shape"
   ]
  },
  {
   "cell_type": "code",
   "execution_count": 140,
   "metadata": {
    "collapsed": false
   },
   "outputs": [
    {
     "name": "stdout",
     "output_type": "stream",
     "text": [
      "Confusion matrix, without normalization\n",
      "[[10  8]\n",
      " [56 26]]\n",
      "Normalized confusion matrix\n",
      "[[ 0.56  0.44]\n",
      " [ 0.68  0.32]]\n"
     ]
    },
    {
     "data": {
      "image/png": "[encoded data removed]",
      "text/plain": [
       "<matplotlib.figure.Figure at 0x7f7eb82cc6d0>"
      ]
     },
     "metadata": {},
     "output_type": "display_data"
    },
    {
     "data": {
      "image/png": "[encoded data removed]",
      "text/plain": [
       "<matplotlib.figure.Figure at 0x7f7eb8b8fed0>"
      ]
     },
     "metadata": {},
     "output_type": "display_data"
    }
   ],
   "source": [
    "# Compute confusion matrix\n",
    "cnf_matrix = confusion_matrix(test_labels, predicted_labels)\n",
    "np.set_printoptions(precision=2)\n",
    "%matplotlib inline\n",
    "# Plot non-normalized confusion matrix\n",
    "plt.figure()\n",
    "plot_confusion_matrix(cnf_matrix, classes=class_names,\n",
    "                      title='Confusion matrix, without normalization')\n",
    "\n",
    "# Plot normalized confusion matrix\n",
    "plt.figure()\n",
    "plot_confusion_matrix(cnf_matrix, classes=class_names, normalize=True,\n",
    "                      title='Normalized confusion matrix')\n",
    "\n",
    "plt.show()"
   ]
  },
  {
   "cell_type": "code",
   "execution_count": null,
   "metadata": {
    "collapsed": true
   },
   "outputs": [],
   "source": []
  }
 ],
 "metadata": {
  "kernelspec": {
   "display_name": "Python [Root]",
   "language": "python",
   "name": "Python [Root]"
  },
  "language_info": {
   "codemirror_mode": {
    "name": "ipython",
    "version": 2
   },
   "file_extension": ".py",
   "mimetype": "text/x-python",
   "name": "python",
   "nbconvert_exporter": "python",
   "pygments_lexer": "ipython2",
   "version": "2.7.12"
  }
 },
 "nbformat": 4,
 "nbformat_minor": 2
}
